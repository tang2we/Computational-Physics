{
 "cells": [
  {
   "cell_type": "code",
   "execution_count": 1,
   "metadata": {},
   "outputs": [],
   "source": [
    "from model.finite import solve_laplace\n",
    "from model.finite import generate_rho\n",
    "from model.iterate import generate_mesh, relax, generate_rho, update_bc\n",
    "import matplotlib.pyplot as plt\n",
    "from numba import jit, njit, prange, set_num_threads\n",
    "\n",
    "set_num_threads(8)"
   ]
  },
  {
   "cell_type": "markdown",
   "metadata": {},
   "source": [
    "## Sparse matrix solver"
   ]
  },
  {
   "cell_type": "code",
   "execution_count": 2,
   "metadata": {},
   "outputs": [
    {
     "name": "stdout",
     "output_type": "stream",
     "text": [
      "7.98 ms ± 2.35 ms per loop (mean ± std. dev. of 7 runs, 1 loop each)\n"
     ]
    },
    {
     "name": "stderr",
     "output_type": "stream",
     "text": [
      "/Library/Frameworks/Python.framework/Versions/3.10/lib/python3.10/site-packages/scipy/sparse/linalg/_dsolve/linsolve.py:144: SparseEfficiencyWarning: spsolve requires A be CSC or CSR matrix format\n",
      "  warn('spsolve requires A be CSC or CSR matrix format',\n"
     ]
    }
   ],
   "source": [
    "rho = generate_rho(N=32, xmin=-5, xmax=5, ymin=-5, ymax=5)\n",
    "dx = 10/32\n",
    "%timeit solve_laplace(N=32, rho=rho.flatten(), dx=dx)"
   ]
  },
  {
   "cell_type": "code",
   "execution_count": 3,
   "metadata": {},
   "outputs": [
    {
     "name": "stdout",
     "output_type": "stream",
     "text": [
      "85.4 ms ± 807 µs per loop (mean ± std. dev. of 7 runs, 10 loops each)\n"
     ]
    }
   ],
   "source": [
    "rho = generate_rho(N=64, xmin=-5, xmax=5, ymin=-5, ymax=5)\n",
    "dx = 10/64\n",
    "%timeit solve_laplace(N=64, rho=rho.flatten(), dx=dx)"
   ]
  },
  {
   "cell_type": "code",
   "execution_count": 4,
   "metadata": {},
   "outputs": [
    {
     "name": "stdout",
     "output_type": "stream",
     "text": [
      "1.82 s ± 39.4 ms per loop (mean ± std. dev. of 7 runs, 1 loop each)\n"
     ]
    }
   ],
   "source": [
    "rho = generate_rho(N=128, xmin=-5, xmax=5, ymin=-5, ymax=5)\n",
    "dx = 10/128\n",
    "%timeit solve_laplace(N=128, rho=rho.flatten(), dx=dx)"
   ]
  },
  {
   "cell_type": "markdown",
   "metadata": {},
   "source": [
    "## Jacobi method"
   ]
  },
  {
   "cell_type": "code",
   "execution_count": 5,
   "metadata": {},
   "outputs": [],
   "source": [
    "buff = 1\n",
    "xmin = -5\n",
    "xmax = 5\n",
    "ymin = -5\n",
    "ymax = 5"
   ]
  },
  {
   "cell_type": "code",
   "execution_count": 18,
   "metadata": {},
   "outputs": [
    {
     "name": "stdout",
     "output_type": "stream",
     "text": [
      "62.3 µs ± 198 ns per loop (mean ± std. dev. of 7 runs, 10,000 loops each)\n"
     ]
    }
   ],
   "source": [
    "nx = 32\n",
    "ny = 32\n",
    "rho = generate_rho(N=32, xmin=xmin, xmax=xmax, ymin=ymin, ymax=ymax)\n",
    "u,x,y,dx,dy = generate_mesh(nx, ny, buff, xmin, xmax, ymin, ymax)\n",
    "\n",
    "%timeit relax(u, dx, rho, method='jacobi', tol=1e-7, maxiter=1_000_00)"
   ]
  },
  {
   "cell_type": "code",
   "execution_count": 7,
   "metadata": {},
   "outputs": [
    {
     "name": "stdout",
     "output_type": "stream",
     "text": [
      "87.4 µs ± 40.5 µs per loop (mean ± std. dev. of 7 runs, 1 loop each)\n"
     ]
    }
   ],
   "source": [
    "nx = 64\n",
    "ny = 64\n",
    "rho = generate_rho(N=64, xmin=xmin, xmax=xmax, ymin=ymin, ymax=ymax)\n",
    "u,x,y,dx,dy = generate_mesh(nx, ny, buff, xmin, xmax, ymin, ymax)\n",
    "%timeit relax(u, dx, rho, method='jacobi', tol=1e-7, maxiter=1_000_00)"
   ]
  },
  {
   "cell_type": "code",
   "execution_count": 8,
   "metadata": {},
   "outputs": [
    {
     "name": "stdout",
     "output_type": "stream",
     "text": [
      "124 µs ± 28.2 µs per loop (mean ± std. dev. of 7 runs, 1 loop each)\n"
     ]
    }
   ],
   "source": [
    "nx = 128\n",
    "ny = 128\n",
    "rho = generate_rho(N=128, xmin=xmin, xmax=xmax, ymin=ymin, ymax=ymax)\n",
    "u,x,y,dx,dy = generate_mesh(nx, ny, buff, xmin, xmax, ymin, ymax)\n",
    "%timeit relax(u, dx, rho, method='jacobi', tol=1e-7, maxiter=1_000_00)"
   ]
  },
  {
   "cell_type": "markdown",
   "metadata": {},
   "source": [
    "## Gauss-Seidel method"
   ]
  },
  {
   "cell_type": "code",
   "execution_count": 9,
   "metadata": {},
   "outputs": [],
   "source": [
    "buff = 1\n",
    "xmin = -5\n",
    "xmax = 5\n",
    "ymin = -5\n",
    "ymax = 5"
   ]
  },
  {
   "cell_type": "code",
   "execution_count": 19,
   "metadata": {},
   "outputs": [
    {
     "name": "stdout",
     "output_type": "stream",
     "text": [
      "74.6 µs ± 6.26 µs per loop (mean ± std. dev. of 7 runs, 10,000 loops each)\n"
     ]
    }
   ],
   "source": [
    "nx = 32\n",
    "ny = 32\n",
    "rho = generate_rho(N=32, xmin=xmin, xmax=xmax, ymin=ymin, ymax=ymax)\n",
    "u,x,y,dx,dy = generate_mesh(nx, ny, buff, xmin, xmax, ymin, ymax)\n",
    "%timeit relax(u, dx, rho, method='gauss_seidel', tol=1e-7, maxiter=1_000_00)"
   ]
  },
  {
   "cell_type": "code",
   "execution_count": 20,
   "metadata": {},
   "outputs": [
    {
     "name": "stdout",
     "output_type": "stream",
     "text": [
      "133 µs ± 26.2 µs per loop (mean ± std. dev. of 7 runs, 1 loop each)\n"
     ]
    }
   ],
   "source": [
    "nx = 64\n",
    "ny = 64\n",
    "rho = generate_rho(N=64, xmin=xmin, xmax=xmax, ymin=ymin, ymax=ymax)\n",
    "u,x,y,dx,dy = generate_mesh(nx, ny, buff, xmin, xmax, ymin, ymax)\n",
    "%timeit relax(u, dx, rho, method='gauss_seidel', tol=1e-7, maxiter=1_000_00)"
   ]
  },
  {
   "cell_type": "code",
   "execution_count": 23,
   "metadata": {},
   "outputs": [
    {
     "name": "stdout",
     "output_type": "stream",
     "text": [
      "194 µs ± 44.3 µs per loop (mean ± std. dev. of 7 runs, 1 loop each)\n"
     ]
    }
   ],
   "source": [
    "nx = 128\n",
    "ny = 128\n",
    "rho = generate_rho(N=128, xmin=xmin, xmax=xmax, ymin=ymin, ymax=ymax)\n",
    "u,x,y,dx,dy = generate_mesh(nx, ny, buff, xmin, xmax, ymin, ymax)\n",
    "%timeit relax(u, dx, rho, method='gauss_seidel', tol=1e-7, maxiter=1_000_00)"
   ]
  },
  {
   "cell_type": "markdown",
   "metadata": {},
   "source": [
    "## SOR"
   ]
  },
  {
   "cell_type": "code",
   "execution_count": 13,
   "metadata": {},
   "outputs": [],
   "source": [
    "buff = 1\n",
    "xmin = -5\n",
    "xmax = 5\n",
    "ymin = -5\n",
    "ymax = 5"
   ]
  },
  {
   "cell_type": "code",
   "execution_count": 25,
   "metadata": {},
   "outputs": [
    {
     "name": "stdout",
     "output_type": "stream",
     "text": [
      "74.2 ms ± 2.89 ms per loop (mean ± std. dev. of 7 runs, 10 loops each)\n"
     ]
    }
   ],
   "source": [
    "nx = 32\n",
    "ny = 32\n",
    "rho = generate_rho(N=32, xmin=xmin, xmax=xmax, ymin=ymin, ymax=ymax)\n",
    "u,x,y,dx,dy = generate_mesh(nx, ny, buff, xmin, xmax, ymin, ymax)\n",
    "%timeit relax(u, dx, rho, method='sor', tol=1e-7, maxiter=1_000_00, w=1.5)"
   ]
  },
  {
   "cell_type": "code",
   "execution_count": 26,
   "metadata": {},
   "outputs": [
    {
     "name": "stdout",
     "output_type": "stream",
     "text": [
      "383 ms ± 18.1 ms per loop (mean ± std. dev. of 7 runs, 1 loop each)\n"
     ]
    }
   ],
   "source": [
    "nx = 64\n",
    "ny = 64\n",
    "rho = generate_rho(N=64, xmin=xmin, xmax=xmax, ymin=ymin, ymax=ymax)\n",
    "u,x,y,dx,dy = generate_mesh(nx, ny, buff, xmin, xmax, ymin, ymax)\n",
    "%timeit relax(u, dx, rho, method='sor', tol=1e-7, maxiter=1_000_00, w=1.5)"
   ]
  },
  {
   "cell_type": "code",
   "execution_count": 27,
   "metadata": {},
   "outputs": [
    {
     "name": "stdout",
     "output_type": "stream",
     "text": [
      "2.71 s ± 34.9 ms per loop (mean ± std. dev. of 7 runs, 1 loop each)\n"
     ]
    }
   ],
   "source": [
    "nx = 128\n",
    "ny = 128\n",
    "rho = generate_rho(N=128, xmin=xmin, xmax=xmax, ymin=ymin, ymax=ymax)\n",
    "u,x,y,dx,dy = generate_mesh(nx, ny, buff, xmin, xmax, ymin, ymax)\n",
    "%timeit relax(u, dx, rho, method='sor', tol=1e-7, maxiter=1_000_00, w=1.5)"
   ]
  },
  {
   "cell_type": "markdown",
   "metadata": {},
   "source": [
    "**Time measurements**\n",
    "\n",
    "Sparse\n",
    "* 32x32: 6.94 ms ± 378 µs per loop (mean ± std. dev. of 7 runs, 1 loop each)\n",
    "* 64x64: 84.1 ms ± 933 µs per loop (mean ± std. dev. of 7 runs, 1 loop each)\n",
    "* 128x128: 1.68 s ± 58.6 ms per loop (mean ± std. dev. of 7 runs, 1 loop each)\n",
    "\n",
    "Jocobi\n",
    "* 32x32: 62.3 µs ± 198 ns per loop (mean ± std. dev. of 7 runs, 10,000 loops each)\n",
    "* 64x64: 87.4 µs ± 40.5 µs per loop (mean ± std. dev. of 7 runs, 1 loop each)\n",
    "* 128x128: 124 µs ± 28.2 µs per loop (mean ± std. dev. of 7 runs, 1 loop each)\n",
    "\n",
    "Gauss-Seidel method\n",
    "* 32x32: 74.6 µs ± 6.26 µs per loop (mean ± std. dev. of 7 runs, 10,000 loops each)\n",
    "* 64x64: 133 µs ± 26.2 µs per loop (mean ± std. dev. of 7 runs, 1 loop each)\n",
    "* 128x128: 194 µs ± 44.3 µs per loop (mean ± std. dev. of 7 runs, 1 loop each)\n",
    "\n",
    "Successive Over-Relaxation method\n",
    "\n",
    "w = 1.2\n",
    "\n",
    "* 75.6 ms ± 6.15 ms per loop (mean ± std. dev. of 7 runs, 10 loops each)\n",
    "* 64x64: 395 ms ± 40.2 ms per loop (mean ± std. dev. of 7 runs, 1 loop each)\n",
    "* 128x128: 2.78 s ± 53.4 ms per loop (mean ± std. dev. of 7 runs, 1 loop each)\n",
    "\n",
    "w = 1.5\n",
    "\n",
    "* 74.2 ms ± 2.89 ms per loop (mean ± std. dev. of 7 runs, 10 loops each)\n",
    "* 64x64: 383 ms ± 18.1 ms per loop (mean ± std. dev. of 7 runs, 1 loop each)\n",
    "* 128x128: 2.71 s ± 34.9 ms per loop (mean ± std. dev. of 7 runs, 1 loop each)"
   ]
  },
  {
   "cell_type": "code",
   "execution_count": 28,
   "metadata": {},
   "outputs": [
    {
     "data": {
      "text/plain": [
       "<matplotlib.legend.Legend at 0x123974640>"
      ]
     },
     "execution_count": 28,
     "metadata": {},
     "output_type": "execute_result"
    },
    {
     "data": {
      "image/png": "[encoded data removed]",
      "text/plain": [
       "<Figure size 640x480 with 1 Axes>"
      ]
     },
     "metadata": {},
     "output_type": "display_data"
    }
   ],
   "source": [
    "sparse = [6.94, 84.1, 1680]\n",
    "jocobi = [0.0623, 0.0874, 0.124]\n",
    "gauss_seidel = [0.0746, 0.133, 0.194]\n",
    "sor1 = [75.6, 395, 2780]\n",
    "sor2 = [74.2, 383, 2710]\n",
    "\n",
    "size = [32*32, 64*64, 128*128]\n",
    "\n",
    "plt.loglog(size, sparse, label='sparse')\n",
    "plt.loglog(size, jocobi, label='jocobi')\n",
    "plt.loglog(size, gauss_seidel, label='gauss_seidel')\n",
    "plt.loglog(size, sor1, label='sor1', alpha=0.5)\n",
    "plt.loglog(size, sor2, label='sor2', alpha=0.5)\n",
    "plt.legend()"
   ]
  },
  {
   "cell_type": "code",
   "execution_count": null,
   "metadata": {},
   "outputs": [],
   "source": []
  }
 ],
 "metadata": {
  "language_info": {
   "name": "python"
  }
 },
 "nbformat": 4,
 "nbformat_minor": 2
}
